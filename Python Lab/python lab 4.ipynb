{
 "cells": [
  {
   "cell_type": "code",
   "execution_count": 1,
   "id": "401c33f8",
   "metadata": {},
   "outputs": [
    {
     "name": "stdout",
     "output_type": "stream",
     "text": [
      "Enter first number: 47\n",
      "Enter second number: 68\n",
      "HCF or GCD of 47 and 68 is 1\n",
      "LCM of 47 and 68 is 3196\n"
     ]
    }
   ],
   "source": [
    "# WAP to compute gcd and lcm of 2 nos\n",
    "def find_gcd(a,b):\n",
    "    gcd = 1\n",
    "    for i in range(1,a+1):\n",
    "        if a%i==0 and b%i==0:\n",
    "           gcd = i\n",
    "    return gcd\n",
    "\n",
    "first = int(input('Enter first number: '))\n",
    "second = int(input('Enter second number: '))\n",
    "\n",
    "print('HCF or GCD of %d and %d is %d' %(first, second, find_gcd(first, second)))\n",
    "\n",
    "lcm = first * second / find_gcd(first, second)\n",
    "print('LCM of %d and %d is %d' %(first, second, lcm))"
   ]
  },
  {
   "cell_type": "code",
   "execution_count": 2,
   "id": "7291271c",
   "metadata": {},
   "outputs": [
    {
     "name": "stdout",
     "output_type": "stream",
     "text": [
      "Enter 1st no. : 7\n",
      "Enter 2nd no. : 13\n",
      "70\n"
     ]
    }
   ],
   "source": [
    "# WAP to compute sum of nos between 2 nos \n",
    "num1=int(input('Enter 1st no. : '))\n",
    "num2=int(input('Enter 2nd no. : '))\n",
    "def recursum(sum,num1,num2):\n",
    "  if num1 > num2:\n",
    "    return sum\n",
    "  return num1 + recursum(sum,num1+1,num2)\n",
    "\n",
    "sum = 0\n",
    "print(recursum(sum,num1,num2))"
   ]
  },
  {
   "cell_type": "code",
   "execution_count": 3,
   "id": "3433412c",
   "metadata": {},
   "outputs": [
    {
     "name": "stdout",
     "output_type": "stream",
     "text": [
      "Enter first number : 4\n",
      "Enter second number : 6\n",
      "Enter Third number : 1\n",
      "Largest number is :  6\n",
      "Smallest number is :  1\n"
     ]
    }
   ],
   "source": [
    "# WAP to find max and min of 3 nos\n",
    "n1 = int(input(\"Enter first number : \"))\n",
    "n2 = int(input(\"Enter second number : \"))\n",
    "n3 = int(input(\"Enter Third number : \"))\n",
    "def f_max():\n",
    "    if (n1 >= n2) and (n1 >= n3):\n",
    "        l = n1\n",
    "    elif (n2 >= n1) and (n2 >= n3):\n",
    "        l = n2\n",
    "    else:\n",
    "        l = n3\n",
    "    print(\"Largest number is : \", l)\n",
    "\n",
    "def find_Smallest():\n",
    "    if(n1<=n2) and (n1<=n3):\n",
    "        S=n1\n",
    "    elif(n2<=n1) and (n2<=n3):\n",
    "        S=n2\n",
    "    else:\n",
    "        S=n3\n",
    "    print(\"Smallest number is : \", S)\n",
    "\n",
    "f_max()\n",
    "find_Smallest()"
   ]
  },
  {
   "cell_type": "code",
   "execution_count": 4,
   "id": "7d0a2e32",
   "metadata": {},
   "outputs": [
    {
     "name": "stdout",
     "output_type": "stream",
     "text": [
      "Enter the number : 12321\n",
      "12321 is a Palindrome\n"
     ]
    }
   ],
   "source": [
    "# WAP to check a no. is palindrome or not\n",
    "def isPalindrome(n):  \n",
    "    reverse=0\n",
    "    reminder=0\n",
    "    while(n!=0):\n",
    "        remainder=n%10\n",
    "        reverse=reverse*10+remainder\n",
    "        n=int(n/10)\n",
    "    return reverse\n",
    "\n",
    "num=int(input('Enter the number : '))\n",
    "\n",
    "reverse=isPalindrome(num)\n",
    "if(num==reverse):\n",
    "  print(num,'is a Palindrome')\n",
    "else:\n",
    "  print(num,'is not a Palindrome')"
   ]
  },
  {
   "cell_type": "code",
   "execution_count": 5,
   "id": "e8c9b844",
   "metadata": {},
   "outputs": [
    {
     "name": "stdout",
     "output_type": "stream",
     "text": [
      "Enter number : 14568\n",
      "24\n"
     ]
    }
   ],
   "source": [
    "# WAP to compute sum of digits in a nos\n",
    "def getSum(n):\n",
    "    sum=0\n",
    "    while (n!=0):\n",
    "        sum=sum+(n%10)\n",
    "        n=n//10\n",
    "       \n",
    "    return sum\n",
    "   \n",
    "n=int(input('Enter number : '))\n",
    "print(getSum(n))"
   ]
  },
  {
   "cell_type": "code",
   "execution_count": 6,
   "id": "c80f1485",
   "metadata": {},
   "outputs": [
    {
     "name": "stdout",
     "output_type": "stream",
     "text": [
      "Enter a: 4\n",
      "Enter b: 6\n",
      "Enter c: 7\n",
      "4.0 < 6.0 < 7.0\n"
     ]
    }
   ],
   "source": [
    "# WAP to display 3 nos in increasing order\n",
    "a=float(input(\"Enter a: \"))\n",
    "b=float(input(\"Enter b: \"))\n",
    "c=float(input(\"Enter c: \"))\n",
    "def display(a,b,c):\n",
    "    if a>b:\n",
    "        a,b=b,a\n",
    "    if a>c:\n",
    "        a,c=c,a\n",
    "    if b>c:\n",
    "        b,c=c,b\n",
    "        \n",
    "    print (a, \"<\", b, \"<\", c)\n",
    "    \n",
    "display(a,b,c)    "
   ]
  },
  {
   "cell_type": "code",
   "execution_count": 7,
   "id": "7d1c54f0",
   "metadata": {},
   "outputs": [
    {
     "data": {
      "text/plain": [
       "False"
      ]
     },
     "execution_count": 7,
     "metadata": {},
     "output_type": "execute_result"
    }
   ],
   "source": [
    "# WAP to check a no. is prime or not\n",
    "def is_prime(n):\n",
    "    for i in range(2,int(n/2)):\n",
    "        if (n%i) == 0:\n",
    "            return False\n",
    "    return True\n",
    "\n",
    "is_prime(8)"
   ]
  },
  {
   "cell_type": "code",
   "execution_count": 8,
   "id": "7d51f1e3",
   "metadata": {},
   "outputs": [
    {
     "name": "stdout",
     "output_type": "stream",
     "text": [
      "Enter a year : 2001\n",
      "The year 2001 has 365 days\n"
     ]
    }
   ],
   "source": [
    "# WAP to return no. of days in year\n",
    "def diy(year):\n",
    "    if year%4==0 and (year%100!=0 or year%400==0):\n",
    "        return 366\n",
    "    return 365\n",
    "year=int(input('Enter a year : '))\n",
    "num=diy(year)\n",
    "print(f'The year {year} has {num} days')"
   ]
  },
  {
   "cell_type": "code",
   "execution_count": 9,
   "id": "32cf74df",
   "metadata": {},
   "outputs": [
    {
     "name": "stdout",
     "output_type": "stream",
     "text": [
      "Blank List: \n",
      "[]\n",
      "\n",
      "List of numbers: \n",
      "[10, 20, 14]\n",
      "\n",
      "List Items: \n",
      "this\n",
      "list\n"
     ]
    }
   ],
   "source": [
    "# WAP to demostrate list in python\n",
    "List = []\n",
    "print(\"Blank List: \")\n",
    "print(List)\n",
    "\n",
    "List = [10, 20, 14]\n",
    "print(\"\\nList of numbers: \")\n",
    "print(List)\n",
    "\n",
    "List = [\"this\", \"is\", \"list\",\"example\"]\n",
    "print(\"\\nList Items: \")\n",
    "print(List[0])\n",
    "print(List[2])"
   ]
  },
  {
   "cell_type": "code",
   "execution_count": 10,
   "id": "912c7ba9",
   "metadata": {},
   "outputs": [
    {
     "name": "stdout",
     "output_type": "stream",
     "text": [
      "1\n",
      "2\n",
      "3\n",
      "4\n",
      "5\n",
      "6\n",
      "7\n",
      "8\n",
      "9\n",
      "10\n"
     ]
    }
   ],
   "source": [
    "# WAP to print list elements using for loop\n",
    "list=[1,2,3,4,5,6,7,8,9,10]\n",
    "for i in range(len(list)):\n",
    "    print (list[i])"
   ]
  }
 ],
 "metadata": {
  "kernelspec": {
   "display_name": "Python 3 (ipykernel)",
   "language": "python",
   "name": "python3"
  },
  "language_info": {
   "codemirror_mode": {
    "name": "ipython",
    "version": 3
   },
   "file_extension": ".py",
   "mimetype": "text/x-python",
   "name": "python",
   "nbconvert_exporter": "python",
   "pygments_lexer": "ipython3",
   "version": "3.9.13"
  }
 },
 "nbformat": 4,
 "nbformat_minor": 5
}
