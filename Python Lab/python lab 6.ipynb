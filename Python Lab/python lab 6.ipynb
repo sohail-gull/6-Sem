{
 "cells": [
  {
   "cell_type": "code",
   "execution_count": 23,
   "id": "04d6e44c",
   "metadata": {},
   "outputs": [
    {
     "name": "stdout",
     "output_type": "stream",
     "text": [
      "Enter a name to look up their birthday: Alice\n",
      "Alice's birthday is 1 Jan 1990\n"
     ]
    }
   ],
   "source": [
    "# WAP to use split and join method in strings and trace a biurthday of a person with dictionary\n",
    "\n",
    "birthdays = {\n",
    "    \"Alice\": \"Jan 1, 2001\",\n",
    "    \"Bob\": \"Feb 14, 2003\",\n",
    "    \"Charlie\": \"Mar 22, 2002\"\n",
    "}\n",
    "\n",
    "name = input(\"Enter a name to look up their birthday: \")\n",
    "\n",
    "if name in birthdays:\n",
    "    birthday = birthdays[name]\n",
    "    birthday_parts = birthday.split(\" \")\n",
    "    day = birthday_parts[1][:-1]\n",
    "    month = birthday_parts[0]\n",
    "    year = birthday_parts[2]\n",
    "    new_birthday = day + \" \" + month + \" \" + year\n",
    "\n",
    "    print(name + \"'s birthday is \" + new_birthday)\n",
    "else:\n",
    "    print(\"Sorry, we don't have a birthday for \" + name)"
   ]
  },
  {
   "cell_type": "code",
   "execution_count": 35,
   "id": "22a1e968",
   "metadata": {},
   "outputs": [
    {
     "name": "stdout",
     "output_type": "stream",
     "text": [
      "Dictionary: {'name': 'John Wick', 'age': 30, 'city': 'New York'}\n",
      "\n",
      "Value of 'name': John Wick\n",
      "Keys: dict_keys(['name', 'age', 'city'])\n",
      "Values: dict_values(['John Wick', 30, 'New York'])\n",
      "The 'age' key exists in the dictionary\n",
      "Length: 3\n",
      "Dictionary (after adding a key-value pair): {'name': 'John Wick', 'age': 30, 'city': 'New York', 'occupation': 'Engineer'}\n",
      "Dictionary (after deleting a key-value pair): {'name': 'John Wick', 'age': 30, 'occupation': 'Engineer'}\n",
      "Dictionary (after updating a value): {'name': 'John Wick', 'age': 31, 'occupation': 'Engineer'}\n",
      "Dictionary (after clearing all key-value pairs): {}\n"
     ]
    }
   ],
   "source": [
    "# WAP to implement all functions and methods of dictionary\n",
    "\n",
    "my_dict = {\n",
    "    \"name\": \"John Wick\",\n",
    "    \"age\": 30,\n",
    "    \"city\": \"New York\"\n",
    "}\n",
    "\n",
    "print(\"Dictionary:\", my_dict)\n",
    "print(\"Value of 'name':\", my_dict[\"name\"])\n",
    "\n",
    "keys = my_dict.keys()\n",
    "print(\"Keys:\", keys)\n",
    "\n",
    "values = my_dict.values()\n",
    "print(\"Values:\", values)\n",
    "\n",
    "if \"age\" in my_dict:\n",
    "    print(\"The 'age' key exists in the dictionary\")\n",
    "\n",
    "length = len(my_dict)\n",
    "print(\"Length:\", length)\n",
    "\n",
    "my_dict[\"occupation\"] = \"Engineer\"\n",
    "print(\"Dictionary (after adding a key-value pair):\", my_dict)\n",
    "\n",
    "del my_dict[\"city\"]\n",
    "print(\"Dictionary (after deleting a key-value pair):\", my_dict)\n",
    "\n",
    "my_dict[\"age\"] = 31\n",
    "print(\"Dictionary (after updating a value):\", my_dict)\n",
    "\n",
    "my_dict.clear()\n",
    "print(\"Dictionary (after clearing all key-value pairs):\", my_dict)"
   ]
  },
  {
   "cell_type": "code",
   "execution_count": 25,
   "id": "078f6e07",
   "metadata": {},
   "outputs": [
    {
     "name": "stdout",
     "output_type": "stream",
     "text": [
      "Tuple: (1, 2, 3, 4, 5)\n",
      "Element at index 2: 3\n",
      "Length: 5\n",
      "Count of 2: 1\n",
      "Index of 4: 3\n",
      "List: [1, 2, 3, 4, 5]\n",
      "New tuple: (1, 2, 3, 4, 5)\n"
     ]
    }
   ],
   "source": [
    "# WAP to implement all functions and methods of tuple\n",
    "\n",
    "my_tuple = (1, 2, 3, 4, 5)\n",
    "print(\"Tuple:\", my_tuple)\n",
    "\n",
    "print(\"Element at index 2:\", my_tuple[2])\n",
    "\n",
    "length = len(my_tuple)\n",
    "print(\"Length:\", length)\n",
    "\n",
    "count = my_tuple.count(2)\n",
    "print(\"Count of 2:\", count)\n",
    "\n",
    "index = my_tuple.index(4)\n",
    "print(\"Index of 4:\", index)\n",
    "\n",
    "my_list = list(my_tuple)\n",
    "print(\"List:\", my_list)\n",
    "\n",
    "my_new_tuple = tuple(my_list)\n",
    "print(\"New tuple:\", my_new_tuple)"
   ]
  },
  {
   "cell_type": "code",
   "execution_count": 27,
   "id": "59d5e495",
   "metadata": {},
   "outputs": [
    {
     "name": "stdout",
     "output_type": "stream",
     "text": [
      "DataFrame:\n",
      "     Name  Age      City\n",
      "0   John   30  New York\n",
      "1   Jane   25    London\n",
      "2  Peter   35     Paris\n",
      "3   Mary   28    Sydney\n",
      "Shape: (4, 3)\n",
      "Data Types: Name    object\n",
      "Age      int64\n",
      "City    object\n",
      "dtype: object\n",
      "Statistics:\n",
      "              Age\n",
      "count   4.000000\n",
      "mean   29.500000\n",
      "std     4.203173\n",
      "min    25.000000\n",
      "25%    27.250000\n",
      "50%    29.000000\n",
      "75%    31.250000\n",
      "max    35.000000\n",
      "Sorted DataFrame:\n",
      "     Name  Age      City\n",
      "2  Peter   35     Paris\n",
      "0   John   30  New York\n",
      "3   Mary   28    Sydney\n",
      "1   Jane   25    London\n",
      "New York DataFrame:\n",
      "    Name  Age      City\n",
      "0  John   30  New York\n",
      "DataFrame with new column:\n",
      "     Name  Age      City Occupation\n",
      "0   John   30  New York   Engineer\n",
      "1   Jane   25    London    Teacher\n",
      "2  Peter   35     Paris     Doctor\n",
      "3   Mary   28    Sydney     Writer\n",
      "DataFrame after dropping Age column:\n",
      "     Name      City Occupation\n",
      "0   John  New York   Engineer\n",
      "1   Jane    London    Teacher\n",
      "2  Peter     Paris     Doctor\n",
      "3   Mary    Sydney     Writer\n"
     ]
    }
   ],
   "source": [
    "# WAP to implement all functions and methods of datasets\n",
    "\n",
    "import pandas as pd\n",
    "\n",
    "data = {\n",
    "    \"Name\": [\"John Wick\", \"Jane Foster\", \"Peter Parker\", \"Mary Jane\"],\n",
    "    \"Age\": [30, 25, 35, 28],\n",
    "    \"City\": [\"New York\", \"London\", \"Paris\", \"Sydney\"]\n",
    "}\n",
    "\n",
    "df = pd.DataFrame(data)\n",
    "print(\"DataFrame:\\n\", df)\n",
    "\n",
    "shape = df.shape\n",
    "print(\"Shape:\", shape)\n",
    "\n",
    "dtypes = df.dtypes\n",
    "print(\"Data Types:\", dtypes)\n",
    "\n",
    "stats = df.describe()\n",
    "print(\"Statistics:\\n\", stats)\n",
    "\n",
    "sorted_df = df.sort_values(by=[\"Age\"], ascending=False)\n",
    "print(\"Sorted DataFrame:\\n\", sorted_df)\n",
    "\n",
    "ny_df = df[df[\"City\"] == \"New York\"]\n",
    "print(\"New York DataFrame:\\n\", ny_df)\n",
    "\n",
    "df[\"Occupation\"] = [\"Engineer\", \"Teacher\", \"Doctor\", \"Writer\"]\n",
    "print(\"DataFrame with new column:\\n\", df)\n",
    "\n",
    "df = df.drop(columns=[\"Age\"])\n",
    "print(\"DataFrame after dropping Age column:\\n\", df)"
   ]
  },
  {
   "cell_type": "code",
   "execution_count": 28,
   "id": "1743a8cf",
   "metadata": {},
   "outputs": [
    {
     "name": "stdout",
     "output_type": "stream",
     "text": [
      "{'h': 1, 'e': 1, 'l': 3, 'o': 2, ' ': 1, 'w': 1, 'r': 1, 'd': 1}\n"
     ]
    }
   ],
   "source": [
    "# wap to count no. of characters instring and store them in dictionary\n",
    "\n",
    "def count_characters(string):\n",
    "    character_counts = {}\n",
    "\n",
    "    for char in string:\n",
    "        if char in character_counts:\n",
    "            character_counts[char] += 1\n",
    "        else:\n",
    "            character_counts[char] = 1\n",
    "\n",
    "    return character_counts\n",
    "\n",
    "string = \"hello world\"\n",
    "counts = count_characters(string)\n",
    "print(counts)"
   ]
  },
  {
   "cell_type": "code",
   "execution_count": 29,
   "id": "e1378017",
   "metadata": {},
   "outputs": [
    {
     "name": "stdout",
     "output_type": "stream",
     "text": [
      "The string contains all unique characters.\n"
     ]
    }
   ],
   "source": [
    "# WAP to check if a string contains all the unique characters\n",
    "\n",
    "def is_unique(string):\n",
    "    unique_chars = set(string)\n",
    "\n",
    "    if len(unique_chars) == len(string):\n",
    "        return True\n",
    "    else:\n",
    "        return False\n",
    "\n",
    "string = \"abcde\"\n",
    "if is_unique(string):\n",
    "    print(\"The string contains all unique characters.\")\n",
    "else:\n",
    "    print(\"The string does not contain all unique characters.\")"
   ]
  },
  {
   "cell_type": "code",
   "execution_count": 30,
   "id": "a8f7a025",
   "metadata": {},
   "outputs": [
    {
     "name": "stdout",
     "output_type": "stream",
     "text": [
      "abc\n",
      "acb\n",
      "bac\n",
      "bca\n",
      "cab\n",
      "cba\n"
     ]
    }
   ],
   "source": [
    "# WAP to print permutation of a string\n",
    "\n",
    "def print_permutations(string, prefix=\"\"):\n",
    "    # If the string is empty, print the prefix\n",
    "    if len(string) == 0:\n",
    "        print(prefix)\n",
    "    else:\n",
    "        for i in range(len(string)):\n",
    "            char = string[i]\n",
    "            remaining = string[:i] + string[i+1:]\n",
    "            print_permutations(remaining, prefix + char)\n",
    "\n",
    "string = \"abc\"\n",
    "print_permutations(string)"
   ]
  },
  {
   "cell_type": "code",
   "execution_count": 31,
   "id": "bf46bd6c",
   "metadata": {},
   "outputs": [
    {
     "name": "stdout",
     "output_type": "stream",
     "text": [
      "[20, 80]\n"
     ]
    }
   ],
   "source": [
    "# WAP to find common element in 3 sorted arrays by dictionary\n",
    "\n",
    "def find_common_elements(array1, array2, array3):\n",
    "    freq_dict = {}\n",
    "\n",
    "    for element in array1:\n",
    "        if element in freq_dict:\n",
    "            freq_dict[element] += 1\n",
    "        else:\n",
    "            freq_dict[element] = 1\n",
    "\n",
    "    for element in array2:\n",
    "        if element in freq_dict:\n",
    "            freq_dict[element] += 1\n",
    "\n",
    "    for element in array3:\n",
    "        if element in freq_dict:\n",
    "            freq_dict[element] += 1\n",
    "\n",
    "    common_elements = []\n",
    "\n",
    "    for element, freq in freq_dict.items():\n",
    "        if freq == 3:\n",
    "            common_elements.append(element)\n",
    "\n",
    "    return common_elements\n",
    "\n",
    "array1 = [1, 5, 10, 20, 40, 80]\n",
    "array2 = [6, 7, 20, 80, 100]\n",
    "array3 = [3, 4, 15, 20, 30, 70, 80, 120]\n",
    "common_elements = find_common_elements(array1, array2, array3)\n",
    "print(common_elements)"
   ]
  }
 ],
 "metadata": {
  "kernelspec": {
   "display_name": "Python 3 (ipykernel)",
   "language": "python",
   "name": "python3"
  },
  "language_info": {
   "codemirror_mode": {
    "name": "ipython",
    "version": 3
   },
   "file_extension": ".py",
   "mimetype": "text/x-python",
   "name": "python",
   "nbconvert_exporter": "python",
   "pygments_lexer": "ipython3",
   "version": "3.9.13"
  }
 },
 "nbformat": 4,
 "nbformat_minor": 5
}
