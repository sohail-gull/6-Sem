{
 "cells": [
  {
   "cell_type": "code",
   "execution_count": 1,
   "id": "7deac33b",
   "metadata": {},
   "outputs": [
    {
     "name": "stdout",
     "output_type": "stream",
     "text": [
      "Enter a no. : 11\n",
      "0\n",
      "1\n",
      "2\n",
      "3\n",
      "4\n",
      "5\n",
      "6\n",
      "7\n",
      "8\n",
      "9\n",
      "10\n",
      "11\n"
     ]
    }
   ],
   "source": [
    "# WAP using while loop taking user input and prints it starting from 0\n",
    "a=0\n",
    "i=int(input('Enter a no. : '))\n",
    "while a<=i:\n",
    "    print(a)\n",
    "    a=a+1"
   ]
  },
  {
   "cell_type": "code",
   "execution_count": 2,
   "id": "974fd4bc",
   "metadata": {},
   "outputs": [
    {
     "name": "stdout",
     "output_type": "stream",
     "text": [
      "1/2 : 0.5\n",
      "1/3 : 0.3333333333333333\n",
      "1/4 : 0.25\n",
      "1/5 : 0.2\n",
      "1/6 : 0.16666666666666666\n",
      "1/7 : 0.14285714285714285\n",
      "1/8 : 0.125\n",
      "1/9 : 0.1111111111111111\n",
      "1/10 : 0.1\n"
     ]
    }
   ],
   "source": [
    "# WAP using for that prints decimal equivalent of 1/2, 1/3 till 1/10\n",
    "a = 1\n",
    "\n",
    "for b in range(2, 11):\n",
    "    print(f\"{a}/{b} :\", a/b)\n"
   ]
  },
  {
   "cell_type": "code",
   "execution_count": 3,
   "id": "72bc9293",
   "metadata": {},
   "outputs": [
    {
     "name": "stdout",
     "output_type": "stream",
     "text": [
      "Enter any number :407\n",
      "It is not a palindrome\n"
     ]
    }
   ],
   "source": [
    "# WAP to check wether a no. is palindrome or not\n",
    "str=input(\"Enter any number :\")\n",
    "i=0\n",
    "for i in range(len(str)):\n",
    "    if str[i]!=str[-1-i]:\n",
    "        print('It is not a palindrome')\n",
    "        break\n",
    "else:\n",
    "    print('It is a palindrome')"
   ]
  },
  {
   "cell_type": "code",
   "execution_count": 4,
   "id": "3c23eda1",
   "metadata": {},
   "outputs": [
    {
     "name": "stdout",
     "output_type": "stream",
     "text": [
      "Enter a number: 153\n",
      "153 is an Armstrong number\n"
     ]
    }
   ],
   "source": [
    "# WAP to check wether a no. is armgstrong or not\n",
    "\n",
    "num = int(input(\"Enter a number: \"))\n",
    "sum = 0\n",
    "temp = num\n",
    "while temp > 0:\n",
    "   digit = temp % 10\n",
    "   sum += digit ** 3\n",
    "   temp //= 10\n",
    "\n",
    "if num == sum:\n",
    "   print(num,\"is an Armstrong number\")\n",
    "else:\n",
    "   print(num,\"is not an Armstrong number\")\n"
   ]
  },
  {
   "cell_type": "code",
   "execution_count": 5,
   "id": "a72e931b",
   "metadata": {},
   "outputs": [
    {
     "name": "stdout",
     "output_type": "stream",
     "text": [
      "Enter an interger, the input ends if it is 0: 4\n",
      "Enter an interger, the input ends if it is 0: 9\n",
      "Enter an interger, the input ends if it is 0: -4\n",
      "Enter an interger, the input ends if it is 0: -8\n",
      "Enter an interger, the input ends if it is 0: 5\n",
      "Enter an interger, the input ends if it is 0: 0\n",
      "The number of positives is 3\n",
      "The number of negatives is 2\n",
      "The total is 6\n",
      "The average is 1.2\n"
     ]
    }
   ],
   "source": [
    "# count positive and negative no. and compute average of no. and input terminates when user enters 0\n",
    "i = int( input (\"Enter an interger, the input ends if it is 0: \"))\n",
    "count_pos = 0\n",
    "count_neg = 0\n",
    "total = 0\n",
    "if (i != 0):\n",
    "    while (i != 0):\n",
    "        if (i > 0):\n",
    "            count_pos += 1\n",
    "        elif (i < 0):\n",
    "            count_neg += 1\n",
    "        total += i\n",
    "        i = int( input (\"Enter an interger, the input ends if it is 0: \"))\n",
    "        count = count_pos + count_neg\n",
    "        average = total / count\n",
    "\n",
    "    print (\"The number of positives is\", count_pos)\n",
    "    print (\"The number of negatives is\", count_neg)\n",
    "    print (\"The total is\", total)\n",
    "    print (\"The average is\", float(average))\n",
    "else:\n",
    "    print (\"You didn't enter any number.\")"
   ]
  },
  {
   "cell_type": "code",
   "execution_count": 6,
   "id": "7de6703c",
   "metadata": {},
   "outputs": [
    {
     "name": "stdout",
     "output_type": "stream",
     "text": [
      "No. of students : 4\n",
      "Enter score 1: 97\n",
      "Enter score 2: 34\n",
      "Enter score 3: 68\n",
      "Enter score 4: 12\n",
      "Highest score : 97\n"
     ]
    }
   ],
   "source": [
    "# WAP to get no. of students and their scores and display highest score\n",
    "\n",
    "b=int(input('No. of students : '))\n",
    "max_score=0      \n",
    "for i in range(0,b):\n",
    "    a=int(input(f'Enter score {i+1}: '))\n",
    "    if a>max_score:\n",
    "        max_score=a\n",
    "        \n",
    "print(f\"Highest score : {max_score}\")   "
   ]
  },
  {
   "cell_type": "code",
   "execution_count": 7,
   "id": "568138e7",
   "metadata": {},
   "outputs": [
    {
     "name": "stdout",
     "output_type": "stream",
     "text": [
      "Enter 1st integer : 60\n",
      "Enter 2nd integer : 48\n",
      "The GCD of 60 and 48 is : 12\n"
     ]
    }
   ],
   "source": [
    "# find greatest common divisor of 2 integers\n",
    "def hcf(a, b):\n",
    "    if(b == 0):\n",
    "        return a\n",
    "    else:\n",
    "        return hcf(b, a % b)\n",
    "\n",
    "a = int(input('Enter 1st integer : '))\n",
    "b = int(input('Enter 2nd integer : '))\n",
    "\n",
    "print(f\"The GCD of {a} and {b} is : \", end=\"\")\n",
    "print(hcf(a,b))"
   ]
  },
  {
   "cell_type": "code",
   "execution_count": 8,
   "id": "d6b0da4d",
   "metadata": {},
   "outputs": [
    {
     "name": "stdout",
     "output_type": "stream",
     "text": [
      "            1 \n",
      "          2 1 2 \n",
      "        3 2 1 2 3 \n",
      "      4 3 2 1 2 3 4 \n",
      "    5 4 3 2 1 2 3 4 5 \n",
      "  6 5 4 3 2 1 2 3 4 5 6 \n",
      "7 6 5 4 3 2 1 2 3 4 5 6 7 \n"
     ]
    }
   ],
   "source": [
    "# WAP to print the pattern with input as no. of lines\n",
    "n=7\n",
    "\n",
    "for i in range(1, n+1):\n",
    "    print(\" \" * (2*(n-i)), end=\"\")\n",
    "    for j in range(i, 0, -1):\n",
    "        print(j, end=\" \")\n",
    "\n",
    "    for j in range(2, i+1):\n",
    "        print(j, end=\" \")\n",
    "\n",
    "    print()"
   ]
  },
  {
   "cell_type": "code",
   "execution_count": 9,
   "id": "d7e48974",
   "metadata": {},
   "outputs": [
    {
     "name": "stdout",
     "output_type": "stream",
     "text": [
      "Sum of all primes below 2 million: 142913828922\n"
     ]
    }
   ],
   "source": [
    "# WAP find sum of all primes below 2 million\n",
    "\n",
    "n = 2000000\n",
    "primes = [True] * n\n",
    "primes[0] = primes[1] = False\n",
    "sum_of_primes = 0\n",
    "\n",
    "for i in range(2, int(n**0.5)+1):\n",
    "    if primes[i]:\n",
    "        for j in range(i*i, n, i):\n",
    "            primes[j] = False\n",
    "\n",
    "for i in range(2, n):\n",
    "    if primes[i]:\n",
    "        sum_of_primes += i\n",
    "print(\"Sum of all primes below 2 million:\", sum_of_primes)"
   ]
  },
  {
   "cell_type": "code",
   "execution_count": 10,
   "id": "5122511f",
   "metadata": {},
   "outputs": [
    {
     "name": "stdout",
     "output_type": "stream",
     "text": [
      "Sum of even numbers in the Fibonacci sequence up to 4 million: 4613732\n"
     ]
    }
   ],
   "source": [
    "# WAP find the sum of even no. of fibonacci series upto 4 million\n",
    "prev_num = 1\n",
    "curr_num = 2\n",
    "sum_of_even_fibonacci = 0\n",
    "\n",
    "while curr_num <= 4000000:\n",
    "    if curr_num % 2 == 0:\n",
    "        sum_of_even_fibonacci += curr_num\n",
    "\n",
    "    temp = curr_num\n",
    "    curr_num += prev_num\n",
    "    prev_num = temp\n",
    "\n",
    "print(\"Sum of even numbers in the Fibonacci sequence up to 4 million:\", sum_of_even_fibonacci)\n"
   ]
  }
 ],
 "metadata": {
  "kernelspec": {
   "display_name": "Python 3 (ipykernel)",
   "language": "python",
   "name": "python3"
  },
  "language_info": {
   "codemirror_mode": {
    "name": "ipython",
    "version": 3
   },
   "file_extension": ".py",
   "mimetype": "text/x-python",
   "name": "python",
   "nbconvert_exporter": "python",
   "pygments_lexer": "ipython3",
   "version": "3.9.13"
  }
 },
 "nbformat": 4,
 "nbformat_minor": 5
}
