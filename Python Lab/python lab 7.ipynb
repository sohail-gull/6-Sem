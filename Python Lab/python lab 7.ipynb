{
 "cells": [
  {
   "cell_type": "code",
   "execution_count": 1,
   "id": "28143a08",
   "metadata": {},
   "outputs": [
    {
     "name": "stdout",
     "output_type": "stream",
     "text": [
      "Enter some text to write to the file: \n",
      "my\n",
      "name\n",
      "is\n",
      "sandeep\n",
      "\n",
      "testfile.txt exists!\n",
      "File contents (read):\n",
      "my\n",
      "name\n",
      "is\n",
      "sandeep\n",
      "\n",
      "File contents (readline):\n",
      "my\n",
      "\n",
      "File contents (readlines):\n",
      "['my\\n', 'name\\n', 'is\\n', 'sandeep\\n']\n"
     ]
    }
   ],
   "source": [
    "# WAP to perform write and read over a file\n",
    "\n",
    "file = open(\"testfile.txt\", \"w\")\n",
    "\n",
    "data = input(\"Enter some text to write to the file: \")\n",
    "while True:\n",
    "    data = input()\n",
    "    if data == \"\":\n",
    "        break\n",
    "    file.write(data + \"\\n\")\n",
    "\n",
    "file.close()\n",
    "\n",
    "import os\n",
    "if os.path.isfile('testfile.txt'):\n",
    "    print(\"testfile.txt exists!\")\n",
    "\n",
    "file = open(\"testfile.txt\", \"r\")\n",
    "\n",
    "contents = file.read()\n",
    "print(\"File contents (read):\")\n",
    "print(contents)\n",
    "\n",
    "file.seek(0)\n",
    "\n",
    "line = file.readline()\n",
    "print(\"File contents (readline):\")\n",
    "print(line)\n",
    "\n",
    "file.seek(0)\n",
    "\n",
    "lines = file.readlines()\n",
    "print(\"File contents (readlines):\")\n",
    "print(lines)\n",
    "\n",
    "file.close()"
   ]
  },
  {
   "cell_type": "code",
   "execution_count": 2,
   "id": "72bd6847",
   "metadata": {},
   "outputs": [
    {
     "name": "stdout",
     "output_type": "stream",
     "text": [
      "The file 'destination.txt' exists!\n",
      "File contents:\n",
      "i am learning data science\n",
      "i am a good\n"
     ]
    }
   ],
   "source": [
    "# WAP to copy content of one file to another\n",
    "\n",
    "source_file = open(\"source.txt\", \"r\")\n",
    "\n",
    "contents = source_file.read()\n",
    "\n",
    "source_file.close()\n",
    "\n",
    "destination_file = open(\"destination.txt\", \"w\")\n",
    "\n",
    "destination_file.write(contents)\n",
    "\n",
    "destination_file.close()\n",
    "\n",
    "import os\n",
    "if os.path.exists(\"destination.txt\"):\n",
    "    print(f\"The file 'destination.txt' exists!\")\n",
    "    f = open(\"destination.txt\", \"r\")\n",
    "    print(\"File contents:\")\n",
    "    print(f.read())\n",
    "    f.close()"
   ]
  },
  {
   "cell_type": "code",
   "execution_count": 3,
   "id": "acbd634b",
   "metadata": {},
   "outputs": [
    {
     "name": "stdout",
     "output_type": "stream",
     "text": [
      "Number of characters: 38\n",
      "Number of words: 9\n",
      "Number of lines: 2\n"
     ]
    }
   ],
   "source": [
    "# WAP to compute no of characters, words, lines in a file\n",
    "\n",
    "file = open(\"source.txt\", \"r\")\n",
    "\n",
    "char_count = 0\n",
    "word_count = 0\n",
    "line_count = 0\n",
    "\n",
    "for line in file:\n",
    "    line_count += 1\n",
    "    char_count += len(line)\n",
    "    words = line.split()\n",
    "    word_count += len(words)\n",
    "\n",
    "file.close()\n",
    "\n",
    "print(f\"Number of characters: {char_count}\")\n",
    "print(f\"Number of words: {word_count}\")\n",
    "print(f\"Number of lines: {line_count}\")"
   ]
  },
  {
   "cell_type": "code",
   "execution_count": 4,
   "id": "f275431a",
   "metadata": {},
   "outputs": [
    {
     "name": "stdout",
     "output_type": "stream",
     "text": [
      "ecneics atad gninrael ma i\n",
      "doog a ma i\n"
     ]
    }
   ],
   "source": [
    "# WAP to print each line of a file in reverse order\n",
    "\n",
    "file = open(\"source.txt\", \"r\")\n",
    "\n",
    "for line in file:\n",
    "    line = line.strip()\n",
    "    print(line[::-1])\n",
    "\n",
    "file.close()"
   ]
  },
  {
   "cell_type": "code",
   "execution_count": 5,
   "id": "2b6a9d2c",
   "metadata": {},
   "outputs": [
    {
     "name": "stdout",
     "output_type": "stream",
     "text": [
      "The frequency of 'a' in the file is 6\n"
     ]
    }
   ],
   "source": [
    "# WAP to count frequency of a character in a file\n",
    "\n",
    "file = open(\"source.txt\", \"r\")\n",
    "\n",
    "char = \"a\"\n",
    "count = 0\n",
    "\n",
    "for ch in file.read():\n",
    "    if ch == char:\n",
    "        count += 1\n",
    "\n",
    "print(f\"The frequency of '{char}' in the file is {count}\")\n",
    "\n",
    "file.close()"
   ]
  },
  {
   "cell_type": "code",
   "execution_count": 6,
   "id": "f1b8647a",
   "metadata": {},
   "outputs": [
    {
     "name": "stdout",
     "output_type": "stream",
     "text": [
      "Enter the number of numbers: 8\n",
      "Enter number 1: 1\n",
      "Enter number 2: 4\n",
      "Enter number 3: 7\n",
      "Enter number 4: 9\n",
      "Enter number 5: 6\n",
      "Enter number 6: 3\n",
      "Enter number 7: 2\n",
      "Enter number 8: 8\n",
      "Even numbers:\n",
      "4\n",
      "6\n",
      "2\n",
      "8\n",
      "Odd numbers:\n",
      "1\n",
      "7\n",
      "9\n",
      "3\n"
     ]
    }
   ],
   "source": [
    "# WAP to read n no. from user and write even no. in a file named even.txt and write odd no. in a file named odd.txt\n",
    "\n",
    "even_file = open(\"even.txt\", \"w\")\n",
    "odd_file = open(\"odd.txt\", \"w\")\n",
    "\n",
    "n = int(input(\"Enter the number of numbers: \"))\n",
    "\n",
    "for i in range(n):\n",
    "    num = int(input(f\"Enter number {i + 1}: \"))\n",
    "    if num % 2 == 0:\n",
    "        even_file.write(str(num) + \"\\n\")\n",
    "    else:\n",
    "        odd_file.write(str(num) + \"\\n\")\n",
    "\n",
    "even_file.close()\n",
    "odd_file.close()\n",
    "\n",
    "even_file = open(\"even.txt\", \"r\")\n",
    "odd_file = open(\"odd.txt\", \"r\")\n",
    "\n",
    "print(\"Even numbers:\")\n",
    "for line in even_file:\n",
    "    print(line.strip())\n",
    "\n",
    "print(\"Odd numbers:\")\n",
    "for line in odd_file:\n",
    "    print(line.strip())\n",
    "\n",
    "even_file.close()\n",
    "odd_file.close()"
   ]
  },
  {
   "cell_type": "code",
   "execution_count": 7,
   "id": "6ae8dc9e",
   "metadata": {},
   "outputs": [
    {
     "name": "stdout",
     "output_type": "stream",
     "text": [
      "Enter the filename: source.txt\n",
      "source.txt is a text file.\n"
     ]
    }
   ],
   "source": [
    "# WAP to determine weather a given file is python, C, or text file\n",
    "\n",
    "import os\n",
    "\n",
    "filename = input(\"Enter the filename: \")\n",
    "\n",
    "basename, extension = os.path.splitext(filename)\n",
    "\n",
    "if extension == \".py\" or extension == \".ipynb\":\n",
    "    print(f\"{filename} is a Python file.\")\n",
    "elif extension == \".c\" or extension == \".h\":\n",
    "    print(f\"{filename} is a C file.\")\n",
    "else:\n",
    "    print(f\"{filename} is a text file.\")"
   ]
  }
 ],
 "metadata": {
  "kernelspec": {
   "display_name": "Python 3 (ipykernel)",
   "language": "python",
   "name": "python3"
  },
  "language_info": {
   "codemirror_mode": {
    "name": "ipython",
    "version": 3
   },
   "file_extension": ".py",
   "mimetype": "text/x-python",
   "name": "python",
   "nbconvert_exporter": "python",
   "pygments_lexer": "ipython3",
   "version": "3.9.13"
  }
 },
 "nbformat": 4,
 "nbformat_minor": 5
}
