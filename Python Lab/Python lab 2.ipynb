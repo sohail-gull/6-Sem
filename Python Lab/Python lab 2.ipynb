{
 "cells": [
  {
   "cell_type": "code",
   "execution_count": 1,
   "id": "09674b06",
   "metadata": {},
   "outputs": [
    {
     "name": "stdout",
     "output_type": "stream",
     "text": [
      "Enter a no. : 84\n",
      "Number is even\n"
     ]
    }
   ],
   "source": [
    "# Check if the number is even or odd\n",
    "a=int(input('Enter a no. : '))\n",
    "if (a%2==0):\n",
    "    print('Number is even')\n",
    "else:\n",
    "    print('Number is odd')"
   ]
  },
  {
   "cell_type": "code",
   "execution_count": 2,
   "id": "c3242b32",
   "metadata": {},
   "outputs": [
    {
     "name": "stdout",
     "output_type": "stream",
     "text": [
      "Enter 1 number : 7\n",
      "Enter 2 number : 5\n",
      "Enter 3 number : 9\n",
      "Numbers in ascending order : 5 7 9\n"
     ]
    }
   ],
   "source": [
    "# Enter 3 numbers and display in increasing order\n",
    "b=int(input(\"Enter 1 number : \"))\n",
    "c=int(input(\"Enter 2 number : \"))\n",
    "d=int(input(\"Enter 3 number : \"))\n",
    "if(b<c and b<d):\n",
    "    if(c<d):\n",
    "        x,y,z=b,c,d\n",
    "    else:\n",
    "        x,y,z=b,d,c\n",
    "elif(c<b and c<d):\n",
    "    if(b<d):\n",
    "        x,y,z=c,b,d\n",
    "    else:\n",
    "        x,y,z=c,d,b\n",
    "else:\n",
    "    if(b<c):\n",
    "        x,y,z=d,b,c\n",
    "    else:\n",
    "        x,y,z=d,c,b\n",
    "print('Numbers in ascending order :',x,y,z)        "
   ]
  },
  {
   "cell_type": "code",
   "execution_count": 3,
   "id": "21a7bcf6",
   "metadata": {},
   "outputs": [
    {
     "name": "stdout",
     "output_type": "stream",
     "text": [
      "Enter 1 marks : 45\n",
      "Enter 2 marks : 98\n",
      "Enter 3 marks : 79\n",
      "Grade : B\n"
     ]
    }
   ],
   "source": [
    "# Enter 3 marks and compute grade\n",
    "m1=int(input(\"Enter 1 marks : \"))\n",
    "m2=int(input(\"Enter 2 marks : \"))\n",
    "m3=int(input(\"Enter 3 marks : \"))\n",
    "avg=(m1+m2+m3)/3\n",
    "if(avg>90):\n",
    "    print('Grade : A')\n",
    "elif(avg>=70 and avg<=90):\n",
    "    print('Grade : B')\n",
    "elif(avg>=50 and avg<=70):\n",
    "    print('Grade : C')\n",
    "else:\n",
    "    print('Grade : F')"
   ]
  },
  {
   "cell_type": "code",
   "execution_count": 4,
   "id": "ad829151",
   "metadata": {},
   "outputs": [
    {
     "name": "stdout",
     "output_type": "stream",
     "text": [
      "Enter a : 4\n",
      "Enter b : 6\n",
      "Enter c : 8\n",
      "Two Distinct Complex Roots Exists: root1 = -0.75+1.20 and root2 = -0.75-1.20\n"
     ]
    }
   ],
   "source": [
    "# Compute roots of quadratic equation\n",
    "import math\n",
    "\n",
    "a=int(input(\"Enter a : \"))\n",
    "b=int(input(\"Enter b : \"))\n",
    "c=int(input(\"Enter c : \"))\n",
    "\n",
    "d=(b*b)-(4*a*c)\n",
    "\n",
    "if(d>0):\n",
    "    root1=((-b)+math.sqrt(d)/(2*a))\n",
    "    root2=((-b)-math.sqrt(d)/(2*a))\n",
    "    print(\"Two Distinct Real Roots Exists: root1 = %.2f and root2 = %.2f\" %(root1,root2))\n",
    "elif(d==0):\n",
    "    root1=root2=(-b)/(2*a)\n",
    "    print(\"Two Equal and Real Roots Exists: root1 = %.2f and root2 = %.2f\" %(root1,root2))\n",
    "elif(d<0):\n",
    "    root1=root2=(-b)/(2*a)\n",
    "    i=(math.sqrt(-d))/(2*a)\n",
    "    print(\"Two Distinct Complex Roots Exists: root1 = %.2f+%.2f and root2 = %.2f-%.2f\" %(root1,i,root2,i))"
   ]
  },
  {
   "cell_type": "code",
   "execution_count": 5,
   "id": "3547b4f3",
   "metadata": {},
   "outputs": [
    {
     "name": "stdout",
     "output_type": "stream",
     "text": [
      "Enter Month : 8\n",
      "Enter Year : 2001\n",
      "31\n"
     ]
    }
   ],
   "source": [
    "# Enter month and year and compute no of days in month\n",
    "month=int(input(\"Enter Month : \"))\n",
    "year=int(input(\"Enter Year : \"))\n",
    "def leap_year(year):\n",
    "    if year % 400 == 0:\n",
    "        return True\n",
    "    if year % 100 == 0:\n",
    "        return False\n",
    "    if year % 4 == 0:\n",
    "        return True\n",
    "    return False\n",
    "\n",
    "def days_in_month(month, year):\n",
    "    if month in {1, 3, 5, 7, 8, 10, 12}:\n",
    "        return 31\n",
    "    if month == 2:\n",
    "        if leap_year(year):\n",
    "            return 29\n",
    "        return 28\n",
    "    return 30\n",
    "\n",
    "print(days_in_month(month, year))  # 29"
   ]
  },
  {
   "cell_type": "code",
   "execution_count": 6,
   "id": "01c9a1af",
   "metadata": {},
   "outputs": [
    {
     "name": "stdout",
     "output_type": "stream",
     "text": [
      "Enter number : 87\n",
      "Number is divisible by 5 or 6 but not both\n"
     ]
    }
   ],
   "source": [
    "# Check wether a no. is divisible by 5 and 6, 5 or 6, Either 5 or 6 but not both\n",
    "num=int(input('Enter number : '))\n",
    "if(num%5==0 and num%6==0):\n",
    "    print('Number is divisible by both 5 and 6')\n",
    "elif(num%5==0 or num%6==0):\n",
    "    print('Number is divisible by 5 or 6')\n",
    "else:\n",
    "    print('Number is divisible by 5 or 6 but not both')"
   ]
  },
  {
   "cell_type": "code",
   "execution_count": 7,
   "id": "08a1071e",
   "metadata": {},
   "outputs": [
    {
     "name": "stdout",
     "output_type": "stream",
     "text": [
      "Enter a : 46\n",
      "Enter b : 76\n",
      "Enter c : 18\n",
      "Triangle is valid\n",
      "Perimeter :  140\n"
     ]
    }
   ],
   "source": [
    "# compute perimeter of triangle while computing a triangle is valid or not\n",
    "a=int(input(\"Enter a : \"))\n",
    "b=int(input(\"Enter b : \"))\n",
    "c=int(input(\"Enter c : \"))\n",
    "if(a+b>c or a+c>b or b+c>a):\n",
    "    print(\"Triangle is valid\")\n",
    "    print('Perimeter : ',a+b+c)\n",
    "else:    \n",
    "    print(\"Triangle is not valid\")"
   ]
  },
  {
   "cell_type": "code",
   "execution_count": 8,
   "id": "505847d8",
   "metadata": {},
   "outputs": [
    {
     "name": "stdout",
     "output_type": "stream",
     "text": [
      "Enter a number : 121\n",
      "121 is a 3 digit number\n",
      "The number is palindrome!\n"
     ]
    }
   ],
   "source": [
    "# compute a 3 digit no. is palindrome or not\n",
    "num=int(input(\"Enter a number : \"))\n",
    "if(num<1000 and num>99):\n",
    "    print(\"{} is a 3 digit number\".format(num))\n",
    "    temp=num\n",
    "    rev=0\n",
    "    while(num>0):\n",
    "        dig=num%10\n",
    "        rev=rev*10+dig\n",
    "        num=num//10\n",
    "    if(temp==rev):\n",
    "        print(\"The number is palindrome!\")\n",
    "    else:\n",
    "        print(\"Not a palindrome!\")\n",
    "else:\n",
    "    print(\"{} is not a 3 digit number\".format(num))"
   ]
  },
  {
   "cell_type": "code",
   "execution_count": 9,
   "id": "a715d2f7",
   "metadata": {},
   "outputs": [
    {
     "name": "stdout",
     "output_type": "stream",
     "text": [
      "Enter a number : 15\n",
      "F"
     ]
    }
   ],
   "source": [
    "# Enter a no. between 0-15 and compute its hex value\n",
    "n=int(input('Enter a number : '))\n",
    "def decToHexa(n):\n",
    "    hexaDeciNum = ['0'] * 100\n",
    "    i = 0\n",
    "    while(n != 0):\n",
    "        temp = 0\n",
    "        temp = n % 16\n",
    "        if(temp < 10):\n",
    "            hexaDeciNum[i] = chr(temp + 48)\n",
    "            i = i + 1\n",
    "        else:\n",
    "            hexaDeciNum[i] = chr(temp + 55)\n",
    "            i = i + 1\n",
    "        n = int(n / 16)\n",
    "\n",
    "    j = i - 1\n",
    "    while(j >= 0):\n",
    "        print((hexaDeciNum[j]), end=\"\")\n",
    "        j = j - 1\n",
    "\n",
    "decToHexa(n)"
   ]
  },
  {
   "cell_type": "code",
   "execution_count": 10,
   "id": "4087ae90",
   "metadata": {},
   "outputs": [
    {
     "name": "stdout",
     "output_type": "stream",
     "text": [
      "Enter a string : A\n",
      "The original string : A\n",
      "The decimal number of hexadecimal string : 10\n"
     ]
    }
   ],
   "source": [
    "# Enter a hex no. and compute its integer value\n",
    "num=input(\"Enter a string : \")\n",
    "print(\"The original string : \" +\n",
    "    str(num))\n",
    "res = int(num, 16)\n",
    "print(\"The decimal number of hexadecimal string : \" + str(res))"
   ]
  }
 ],
 "metadata": {
  "kernelspec": {
   "display_name": "Python 3 (ipykernel)",
   "language": "python",
   "name": "python3"
  },
  "language_info": {
   "codemirror_mode": {
    "name": "ipython",
    "version": 3
   },
   "file_extension": ".py",
   "mimetype": "text/x-python",
   "name": "python",
   "nbconvert_exporter": "python",
   "pygments_lexer": "ipython3",
   "version": "3.9.13"
  }
 },
 "nbformat": 4,
 "nbformat_minor": 5
}
