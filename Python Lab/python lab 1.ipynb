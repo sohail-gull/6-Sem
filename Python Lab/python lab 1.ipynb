{
 "cells": [
  {
   "cell_type": "code",
   "execution_count": 1,
   "id": "d9cff31f",
   "metadata": {},
   "outputs": [
    {
     "name": "stdout",
     "output_type": "stream",
     "text": [
      "enter side of square\n",
      "4\n",
      "area of square is : 16\n",
      "enter length of rectangle\n",
      "4\n",
      "enter bredth of rectangle\n",
      "6\n",
      "area of rectangle is : 24\n",
      "enter radius of circle\n",
      "7\n",
      "area of circle is : 153.86\n"
     ]
    }
   ],
   "source": [
    "# area of shapes\n",
    "a= eval(input(\"enter side of square\\n\"))\n",
    "print(\"area of square is :\", a*a)\n",
    "b=eval(input(\"enter length of rectangle\\n\"))\n",
    "c=eval(input(\"enter bredth of rectangle\\n\"))\n",
    "print(\"area of rectangle is :\",b*c)\n",
    "d=eval(input(\"enter radius of circle\\n\"))\n",
    "pi=3.14\n",
    "print(\"area of circle is :\",pi*d*d)"
   ]
  },
  {
   "cell_type": "code",
   "execution_count": 2,
   "id": "c6c26096",
   "metadata": {},
   "outputs": [
    {
     "name": "stdout",
     "output_type": "stream",
     "text": [
      "enter amount in indian rupee:82.70\n",
      "enter amount in us dollar is : 1.0 us dollars\n",
      "enter amount in uk pound  is : 0.8301545874322425 uk pound \n"
     ]
    }
   ],
   "source": [
    "# currency conversion\n",
    "a=eval (input(\"enter amount in indian rupee:\"))\n",
    "us=a/82.70\n",
    "uk=a/99.62\n",
    "print(\"enter amount in us dollar is :\", us ,\"us dollars\")\n",
    "print(\"enter amount in uk pound  is :\",uk,\"uk pound \")"
   ]
  },
  {
   "cell_type": "code",
   "execution_count": 4,
   "id": "4314848b",
   "metadata": {},
   "outputs": [
    {
     "name": "stdout",
     "output_type": "stream",
     "text": [
      "data type of a:  <class 'int'>\n",
      "data type of b:  <class 'float'>\n",
      "data type of c:  <class 'complex'>\n",
      "data type of d:  <class 'str'>\n",
      "data type of e:  <class 'list'>\n",
      "data type of f:  <class 'tuple'>\n",
      "data type of g:  <class 'bool'>\n",
      "data type of h:  <class 'bool'>\n",
      "data type of i:  <class 'set'>\n",
      "data type of j: <class 'dict'>\n"
     ]
    }
   ],
   "source": [
    "# datatypes\n",
    "a = 6\n",
    "print(\"data type of a: \",type(a))\n",
    "b=5.5\n",
    "print(\"data type of b: \", type(b))\n",
    "c = 5 + 2j\n",
    "print(\"data type of c: \", type(c))\n",
    "d= \"hello\"\n",
    "print(\"data type of d: \", type(d))\n",
    "e= [1,2,3,5,6,7]\n",
    "print(\"data type of e: \", type(e))\n",
    "f=(1,2,4,5,6,8,9)\n",
    "print(\"data type of f: \", type(f))\n",
    "g= True\n",
    "print(\"data type of g: \", type(g))\n",
    "h= False\n",
    "print(\"data type of h: \", type(h))\n",
    "i={1,3,5,7,9,4}\n",
    "print(\"data type of i: \", type(i))\n",
    "j={1:'hello',2:'everyone'}\n",
    "print(\"data type of j:\",type(j))"
   ]
  },
  {
   "cell_type": "code",
   "execution_count": 5,
   "id": "dd2a7a09",
   "metadata": {},
   "outputs": [
    {
     "name": "stdout",
     "output_type": "stream",
     "text": [
      "enter x1 coordinate:20\n",
      "enter x2 coordinate:40\n",
      "enter y1 coordinate:20\n",
      "enter y2 coordinate:40\n",
      "distance between two pointsis: 28.284271247461902\n"
     ]
    }
   ],
   "source": [
    "# distance between 2 points\n",
    "import math\n",
    "x1=eval (input(\"enter x1 coordinate:\"))\n",
    "x2=eval (input(\"enter x2 coordinate:\"))\n",
    "y1=eval (input(\"enter y1 coordinate:\"))\n",
    "y2=eval (input(\"enter y2 coordinate:\"))\n",
    "print(\"distance between two pointsis:\",math.sqrt(((x2-x1)**2+((y2-y1)**2))))"
   ]
  },
  {
   "cell_type": "code",
   "execution_count": 6,
   "id": "43a3b148",
   "metadata": {},
   "outputs": [
    {
     "name": "stdout",
     "output_type": "stream",
     "text": [
      "enter ist number:20\n",
      "enter 2nd number:277\n",
      "add of a and b  is: 297\n",
      "subtract of a and b  is: -257\n",
      "multiply of a and b  is: 5540\n",
      "division of a and b  is: 0\n",
      "modulo of a and b  is: 20\n",
      "exponential of a and b  is: 2428336115282161338649327383529398633303008548815174401564765512173630356506510622720000000000000000000000000000000000000000000000000000000000000000000000000000000000000000000000000000000000000000000000000000000000000000000000000000000000000000000000000000000000000000000000000000000000000000000000000000000000000000000000000000000000000000000000000000000000000\n"
     ]
    }
   ],
   "source": [
    "# operations\n",
    "a= eval (input(\"enter ist number:\"))\n",
    "b= eval (input(\"enter 2nd number:\"))\n",
    "c= a+b\n",
    "d=a-b\n",
    "e=a*b\n",
    "f=a//b\n",
    "g=a%b\n",
    "h=a**b\n",
    "print(\"add of a and b  is:\",c)\n",
    "print(\"subtract of a and b  is:\",d)\n",
    "print(\"multiply of a and b  is:\",e)\n",
    "print(\"division of a and b  is:\",f)\n",
    "print(\"modulo of a and b  is:\",g)\n",
    "print(\"exponential of a and b  is:\",h)"
   ]
  },
  {
   "cell_type": "code",
   "execution_count": 7,
   "id": "5d168c29",
   "metadata": {},
   "outputs": [
    {
     "name": "stdout",
     "output_type": "stream",
     "text": [
      "enter side  of cube\n",
      "4\n",
      "volume of cube is : 64\n",
      "length of cuboid\n",
      "2\n",
      "bredth of cuboid\n",
      "4\n",
      "height of cuboid\n",
      "6\n",
      "volume of cuboid  is : 48\n",
      "enter radius of cone\n",
      "45\n",
      "enter height of cone\n",
      "53\n",
      "volume of cone  is : 112333.5\n"
     ]
    }
   ],
   "source": [
    "# volume of shapes\n",
    "e=eval(input(\"enter side  of cube\\n\"))\n",
    "print(\"volume of cube is :\",e*e*e)\n",
    "f=eval(input(\"length of cuboid\\n\"))\n",
    "g= eval (input(\"bredth of cuboid\\n\"))\n",
    "h= eval (input(\"height of cuboid\\n\"))\n",
    "print(\"volume of cuboid  is :\",f*g*h)\n",
    "i=eval(input(\"enter radius of cone\\n\"))\n",
    "j=eval(input(\"enter height of cone\\n\"))\n",
    "print(\"volume of cone  is :\",1/3* pi*i*i*j)"
   ]
  },
  {
   "cell_type": "code",
   "execution_count": null,
   "id": "ccaaef6e",
   "metadata": {},
   "outputs": [],
   "source": []
  }
 ],
 "metadata": {
  "kernelspec": {
   "display_name": "Python 3 (ipykernel)",
   "language": "python",
   "name": "python3"
  },
  "language_info": {
   "codemirror_mode": {
    "name": "ipython",
    "version": 3
   },
   "file_extension": ".py",
   "mimetype": "text/x-python",
   "name": "python",
   "nbconvert_exporter": "python",
   "pygments_lexer": "ipython3",
   "version": "3.9.13"
  }
 },
 "nbformat": 4,
 "nbformat_minor": 5
}
