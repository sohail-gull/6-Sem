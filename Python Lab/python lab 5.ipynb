{
 "cells": [
  {
   "cell_type": "code",
   "execution_count": 1,
   "id": "d25bfe82",
   "metadata": {},
   "outputs": [
    {
     "name": "stdout",
     "output_type": "stream",
     "text": [
      "Enter string1 : sandeep\n",
      "Enter string2 : Kapoor\n",
      "Upper :  SANDEEP\n",
      "Lower :  sandeep\n",
      "Is alpha-numeric :  True\n",
      "Digit :  False\n",
      "Swapcase :  SANDEEP\n",
      "Capital :  Sandeep\n",
      "Islower :  True\n",
      "y present or not :  -1\n",
      "Concat :  sandeepKapoor\n",
      "Repeat :  sandeepsandeepsandeep\n",
      "Slicling :  and\n",
      "Count of a :  1\n",
      "Replace :  Singh Rajput\n"
     ]
    }
   ],
   "source": [
    "# WAP to demonstrate use of string operators and functions\n",
    "str1 = input(\"Enter string1 : \")   \n",
    "str2 =input(\"Enter string2 : \")\n",
    "a=str1.upper()\n",
    "print('Upper : ',a)\n",
    "b=str1.lower()\n",
    "print('Lower : ',b)\n",
    "c=str1.isalnum()\n",
    "print('Is alpha-numeric : ',c)\n",
    "d=str1.isdigit()\n",
    "print('Digit : ',d)\n",
    "e=str1.swapcase()\n",
    "print('Swapcase : ',e)\n",
    "f=str1.capitalize()\n",
    "print('Capital : ',f)\n",
    "g=str1.islower()\n",
    "print('Islower : ',g)\n",
    "h= str1.find(\"y\")\n",
    "print('y present or not : ',h)\n",
    "concatenate_str = str1 + str2\n",
    "print('Concat : ',concatenate_str)\n",
    "print('Repeat : ',3 * str1)\n",
    "j=str1[1:4]\n",
    "print('Slicling : ',j)\n",
    "k=str1.count(\"a\")\n",
    "print('Count of a : ',k)\n",
    "l=str2.replace(\"Kapoor\", \"Singh Rajput\")\n",
    "print('Replace : ',l)"
   ]
  },
  {
   "cell_type": "code",
   "execution_count": 2,
   "id": "d1128971",
   "metadata": {},
   "outputs": [
    {
     "name": "stdout",
     "output_type": "stream",
     "text": [
      "Enter a string : hi giys\n",
      "Total Number of Characters in this String =  7\n"
     ]
    }
   ],
   "source": [
    "# WAP to count no. of characters in string(for loop)\n",
    "s=input('Enter a string : ')\n",
    "count = 0\n",
    " \n",
    "for i in s:\n",
    "    count = count + 1\n",
    " \n",
    "print(\"Total Number of Characters in this String = \", count)"
   ]
  },
  {
   "cell_type": "code",
   "execution_count": 3,
   "id": "d37460f5",
   "metadata": {},
   "outputs": [
    {
     "name": "stdout",
     "output_type": "stream",
     "text": [
      "Enter a string : good morning\n",
      "The original string is : good morning\n",
      "The reversed string (using for loop) is : gninrom doog\n"
     ]
    }
   ],
   "source": [
    "# WAP that reverse a string\n",
    "s=input('Enter a string : ')\n",
    "def reverse(s):\n",
    "    str = \"\"\n",
    "    for i in s:\n",
    "        str = i + str\n",
    "    return str\n",
    "\n",
    "print(\"The original string is : \", end=\"\")\n",
    "print(s)\n",
    "\n",
    "print(\"The reversed string (using for loop) is : \", end=\"\")\n",
    "print(reverse(s))"
   ]
  },
  {
   "cell_type": "code",
   "execution_count": 4,
   "id": "8aec0b49",
   "metadata": {},
   "outputs": [
    {
     "name": "stdout",
     "output_type": "stream",
     "text": [
      "2\n"
     ]
    }
   ],
   "source": [
    "# WAP make a function to check substring as find\n",
    "def find_str (string, substring):\n",
    "    index = 0\n",
    "    length = len (substring)\n",
    "    for j in range(len(string)):\n",
    "        if is_next_sub(string, substring, j):\n",
    "            return j        \n",
    "    return \"-1\"\n",
    "\n",
    "def is_next_sub(string, substring, index):\n",
    "    for i in range(len(substring)):\n",
    "        if substring[i] != string[index + i]:\n",
    "            return False\n",
    "    return True\n",
    "print (find_str (\"hello\", \"llo\"))"
   ]
  },
  {
   "cell_type": "code",
   "execution_count": 5,
   "id": "c93847bd",
   "metadata": {},
   "outputs": [
    {
     "name": "stdout",
     "output_type": "stream",
     "text": [
      "Password is valid\n"
     ]
    }
   ],
   "source": [
    "# WAP check password validity by   (8 characters,only letter digit,atleast 2 digit)\n",
    "\n",
    "def password_check(passwd):\n",
    "    val = True\n",
    "    d=0\n",
    "    if len(passwd) < 8:\n",
    "        print('length should be at least 8')\n",
    "        val = False\n",
    "\n",
    "    if not any(char.isdigit() for char in passwd):\n",
    "        print('Password should have at least one numeral')\n",
    "        val = False\n",
    "        \n",
    "    for i in passwd:\n",
    "        if (i.isdigit()):\n",
    "            d+=1\n",
    "    \n",
    "    if d < 2:\n",
    "        print('digits should atleast be 2')\n",
    "        val = False\n",
    "\n",
    "    if val:\n",
    "        return val\n",
    "\n",
    "passwd = 'R@m@_f0rtu9e$'\n",
    "\n",
    "if(password_check(passwd)):\n",
    "    print(\"Password is valid\")\n",
    "else:\n",
    "    print(\"Invalid Password !!\")"
   ]
  },
  {
   "cell_type": "code",
   "execution_count": 6,
   "id": "82bf3d60",
   "metadata": {},
   "outputs": [
    {
     "name": "stdout",
     "output_type": "stream",
     "text": [
      "Enter a string : morning\n",
      "Enter character to be found: m\n",
      "Count of m in morning is : 1\n"
     ]
    }
   ],
   "source": [
    "# WAP make a function to count OCCURANCE of character as count\n",
    "s=input('Enter a string : ')\n",
    "a=input('Enter character to be found: ')\n",
    "count = 0\n",
    "\n",
    "for i in s:\n",
    "    if i == a:\n",
    "        count = count + 1\n",
    "\n",
    "print (\"Count of %s in %s is : %d\" %(a,s,count))"
   ]
  }
 ],
 "metadata": {
  "kernelspec": {
   "display_name": "Python 3 (ipykernel)",
   "language": "python",
   "name": "python3"
  },
  "language_info": {
   "codemirror_mode": {
    "name": "ipython",
    "version": 3
   },
   "file_extension": ".py",
   "mimetype": "text/x-python",
   "name": "python",
   "nbconvert_exporter": "python",
   "pygments_lexer": "ipython3",
   "version": "3.9.13"
  }
 },
 "nbformat": 4,
 "nbformat_minor": 5
}
