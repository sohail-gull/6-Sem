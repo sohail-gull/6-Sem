{
 "cells": [
  {
   "cell_type": "code",
   "execution_count": null,
   "id": "d25bfe82",
   "metadata": {},
   "outputs": [],
   "source": [
    "# WAP to demonstrate use of string operators and functions\n",
    "str1 = input(\":enter string1\\n\")   \n",
    "str2 =input(\":nter string2\")\n",
    "a=str1.upper()\n",
    "print(a)\n",
    "b=str1.lower()\n",
    "print(b)\n",
    "c=str1.isalnum()\n",
    "print(c)\n",
    "d=str1.isdigit()\n",
    "print(d)\n",
    "e=str1.swapcase()\n",
    "print(e)\n",
    "f=str1.capitalize()\n",
    "print(f)\n",
    "g=str1.islower()\n",
    "print(g)\n",
    "h= str1.find(\"y\")\n",
    "print(h)\n",
    "i=str1.swapcase()\n",
    "print(i)\n",
    "concatenate_str = str1 + str2\n",
    "print(concatenate_str)\n",
    "print(3 * str1)"
   ]
  },
  {
   "cell_type": "code",
   "execution_count": 7,
   "id": "d1128971",
   "metadata": {},
   "outputs": [
    {
     "name": "stdout",
     "output_type": "stream",
     "text": [
      "Enter a string : hi guys\n",
      "Total Number of Characters in this String =  7\n"
     ]
    }
   ],
   "source": [
    "# WAP to count no. of characters in string(for loop)\n",
    "s=input('Enter a string : ')\n",
    "count = 0\n",
    " \n",
    "for i in s:\n",
    "    count = count + 1\n",
    " \n",
    "print(\"Total Number of Characters in this String = \", count)"
   ]
  },
  {
   "cell_type": "code",
   "execution_count": 8,
   "id": "d37460f5",
   "metadata": {},
   "outputs": [
    {
     "name": "stdout",
     "output_type": "stream",
     "text": [
      "Enter a string : good morning\n",
      "The original string is : good morning\n",
      "The reversed string (using for loop) is : gninrom doog\n"
     ]
    }
   ],
   "source": [
    "# WAP that reverse a string\n",
    "s=input('Enter a string : ')\n",
    "def reverse(s):\n",
    "    str = \"\"\n",
    "    for i in s:\n",
    "        str = i + str\n",
    "    return str\n",
    "\n",
    "print(\"The original string is : \", end=\"\")\n",
    "print(s)\n",
    "\n",
    "print(\"The reversed string (using for loop) is : \", end=\"\")\n",
    "print(reverse(s))"
   ]
  },
  {
   "cell_type": "code",
   "execution_count": 9,
   "id": "8aec0b49",
   "metadata": {},
   "outputs": [
    {
     "name": "stdout",
     "output_type": "stream",
     "text": [
      "Enter a string : my name is sandeep\n",
      "Enter sub-string to be found: sand\n",
      "Yes! it is present in the string\n"
     ]
    }
   ],
   "source": [
    "# WAP make a function to check substring as find\n",
    "s=input('Enter a string : ')\n",
    "a=input('Enter sub-string to be found: ')\n",
    "if a in s:\n",
    "    print(\"Yes! it is present in the string\")\n",
    "else:\n",
    "    print(\"No! it is not present\")"
   ]
  },
  {
   "cell_type": "code",
   "execution_count": 13,
   "id": "c93847bd",
   "metadata": {},
   "outputs": [
    {
     "name": "stdout",
     "output_type": "stream",
     "text": [
      "Password is valid\n"
     ]
    }
   ],
   "source": [
    "# WAP check password validity by   (8 characters,only letter digit,atleast 2 digit)\n",
    "\n",
    "def password_check(passwd):\n",
    "    val = True\n",
    "    d=0\n",
    "    if len(passwd) < 8:\n",
    "        print('length should be at least 8')\n",
    "        val = False\n",
    "\n",
    "    if not any(char.isdigit() for char in passwd):\n",
    "        print('Password should have at least one numeral')\n",
    "        val = False\n",
    "        \n",
    "    for i in passwd:\n",
    "        if (i.isdigit()):\n",
    "            d+=1\n",
    "    \n",
    "    if d < 2:\n",
    "        print('digits should atleast be 2')\n",
    "        val = False\n",
    "\n",
    "    if val:\n",
    "        return val\n",
    "\n",
    "\n",
    "def main():\n",
    "    passwd = 'R@m@_f0rtu9e$'\n",
    "\n",
    "    if(password_check(passwd)):\n",
    "        print(\"Password is valid\")\n",
    "    else:\n",
    "        print(\"Invalid Password !!\")\n",
    "\n",
    "if __name__ == '__main__':\n",
    "    main()"
   ]
  },
  {
   "cell_type": "code",
   "execution_count": 14,
   "id": "82bf3d60",
   "metadata": {},
   "outputs": [
    {
     "name": "stdout",
     "output_type": "stream",
     "text": [
      "Enter a string : hello guys\n",
      "Enter character to be found: l\n",
      "Count of l in hello guys is : 2\n"
     ]
    }
   ],
   "source": [
    "# WAP make a function to count OCCURANCE of character as count\n",
    "s=input('Enter a string : ')\n",
    "a=input('Enter character to be found: ')\n",
    "count = 0\n",
    "\n",
    "for i in s:\n",
    "    if i == a:\n",
    "        count = count + 1\n",
    "\n",
    "print (\"Count of %s in %s is : %d\" %(a,s,count))"
   ]
  },
  {
   "cell_type": "code",
   "execution_count": null,
   "id": "00d4db3f",
   "metadata": {},
   "outputs": [],
   "source": []
  }
 ],
 "metadata": {
  "kernelspec": {
   "display_name": "Python 3 (ipykernel)",
   "language": "python",
   "name": "python3"
  },
  "language_info": {
   "codemirror_mode": {
    "name": "ipython",
    "version": 3
   },
   "file_extension": ".py",
   "mimetype": "text/x-python",
   "name": "python",
   "nbconvert_exporter": "python",
   "pygments_lexer": "ipython3",
   "version": "3.9.13"
  }
 },
 "nbformat": 4,
 "nbformat_minor": 5
}
